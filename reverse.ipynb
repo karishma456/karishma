{
  "nbformat": 4,
  "nbformat_minor": 0,
  "metadata": {
    "colab": {
      "provenance": [],
      "authorship_tag": "ABX9TyNH97u1jdUBdVGAU4Drlvnq",
      "include_colab_link": true
    },
    "kernelspec": {
      "name": "python3",
      "display_name": "Python 3"
    },
    "language_info": {
      "name": "python"
    }
  },
  "cells": [
    {
      "cell_type": "markdown",
      "metadata": {
        "id": "view-in-github",
        "colab_type": "text"
      },
      "source": [
        "<a href=\"https://colab.research.google.com/github/karishma456/karishma/blob/main/reverse.ipynb\" target=\"_parent\"><img src=\"https://colab.research.google.com/assets/colab-badge.svg\" alt=\"Open In Colab\"/></a>"
      ]
    },
    {
      "cell_type": "code",
      "execution_count": null,
      "metadata": {
        "id": "leP5-DWGlK6p",
        "colab": {
          "base_uri": "https://localhost:8080/"
        },
        "outputId": "203ca52b-4c7e-4900-977d-5d2b8c9506d2"
      },
      "outputs": [
        {
          "output_type": "stream",
          "name": "stdout",
          "text": [
            "enter a value9\n",
            "enter a value8\n",
            "a is greater\n"
          ]
        }
      ],
      "source": [
        "# a=input('enter a value')\n",
        "# b=input('enter a value')\n",
        "# c=int(a)+int(b)\n",
        "# print(c)\n",
        "\n",
        "# c=input('enter a value')\n",
        "# print(type(c))\n",
        "# a=int(c)\n",
        "# print(type(a))\n",
        "\n",
        "# a=input('enter a value')\n",
        "# b=input('enter a value')\n",
        "# c=int(a)*int(b)\n",
        "# print(c)\n",
        "\n",
        "# a=input('enter a value')\n",
        "# b=input('enter a value')\n",
        "# c=int(a)+int(b)\n",
        "# print(c,'add')\n",
        "# c=int(a)-int(b)\n",
        "# print(c,'sub')\n",
        "# c=int(a)*int(b)\n",
        "# print(c,'multiple')\n",
        "# c=int(a)/int(b)\n",
        "# print(c,'divide')\n",
        "\n",
        "a=input('enter a value')\n",
        "a=int(a)\n",
        "b=input('enter a value')\n",
        "b=int(b)\n",
        "if a>b:\n",
        "  print('a is greater')\n",
        "else:\n",
        "  print('b is greater')\n"
      ]
    },
    {
      "cell_type": "code",
      "source": [
        "a=input('enter a value')\n",
        "a=int(a)\n",
        "b=input('enter a value')\n",
        "b=int(b)\n",
        "c=input('enter a value')\n",
        "c=int(c)\n",
        "if a+b>c:\n",
        "  print('true')\n",
        "elif a+b<c:\n",
        "  print('both')\n",
        "else:\n",
        "  print('false')\n"
      ],
      "metadata": {
        "colab": {
          "base_uri": "https://localhost:8080/"
        },
        "id": "yKtfVkz7wWSH",
        "outputId": "14512910-7b8a-402b-ca7c-8fce48c7e906"
      },
      "execution_count": null,
      "outputs": [
        {
          "output_type": "stream",
          "name": "stdout",
          "text": [
            "enter a value8\n",
            "enter a value9\n",
            "enter a value10\n",
            "true\n"
          ]
        }
      ]
    },
    {
      "cell_type": "code",
      "source": [
        "a=input('enter a value')\n",
        "a=int(a)\n",
        "b=input('enter a value')\n",
        "b=int(b)\n",
        "c=input('enter a value')\n",
        "if a*b==c:\n",
        "  print('a is multiply by b')\n",
        "else:\n",
        "  print('false')\n",
        "\n"
      ],
      "metadata": {
        "colab": {
          "base_uri": "https://localhost:8080/"
        },
        "id": "GOSoKvwDzTI8",
        "outputId": "3b343c11-6f91-4108-e672-29c21578378a"
      },
      "execution_count": null,
      "outputs": [
        {
          "output_type": "stream",
          "name": "stdout",
          "text": [
            "enter a value1\n",
            "enter a value10\n",
            "enter a value10\n",
            "false\n"
          ]
        }
      ]
    },
    {
      "cell_type": "code",
      "source": [
        "a=input()\n",
        "a=int(a)\n",
        "if a%3==0:\n",
        "  print('a is divided by 3')\n",
        "elif a%4==0:\n",
        "  print('a is divided by 4')\n",
        "elif a%5==0:\n",
        "  print('a is divided by 5')\n",
        "else:\n",
        "  print('false')\n"
      ],
      "metadata": {
        "colab": {
          "base_uri": "https://localhost:8080/"
        },
        "id": "mANBG5IG1HHV",
        "outputId": "1a38fb61-a357-4902-d543-a6986ff33e9a"
      },
      "execution_count": null,
      "outputs": [
        {
          "output_type": "stream",
          "name": "stdout",
          "text": [
            "17\n",
            "false\n"
          ]
        }
      ]
    },
    {
      "cell_type": "code",
      "source": [
        "a=input()\n",
        "a=int(a)\n",
        "if a==1:\n",
        "  print('one')\n",
        "elif a==2:\n",
        "  print('two')\n",
        "elif a==3:\n",
        "  print('three')\n",
        "elif a==4:\n",
        "  print('four')\n",
        "elif a==5:\n",
        "  print('five')\n",
        "elif a==6:\n",
        "  print('six')\n",
        "elif a==7:\n",
        "  print('seven')\n",
        "elif a==8:\n",
        "  print('eight')\n",
        "elif a==9:\n",
        "  print('nine')\n",
        "elif a==10:\n",
        "  print('ten')\n",
        "else:\n",
        "  print('a is greater than 10')\n"
      ],
      "metadata": {
        "colab": {
          "base_uri": "https://localhost:8080/"
        },
        "id": "B-1str7c3in5",
        "outputId": "5c2286c2-8209-49a3-bc6f-5d992d0bf08f"
      },
      "execution_count": null,
      "outputs": [
        {
          "output_type": "stream",
          "name": "stdout",
          "text": [
            "9\n",
            "nine\n"
          ]
        }
      ]
    },
    {
      "cell_type": "code",
      "source": [
        "for i in 'hello':\n",
        "  print(i)\n",
        "\n",
        "\n",
        "\n"
      ],
      "metadata": {
        "id": "hvLbb-o8Hmes",
        "colab": {
          "base_uri": "https://localhost:8080/"
        },
        "outputId": "4e86cfff-c408-4e25-df2e-32f2932f881e"
      },
      "execution_count": 1,
      "outputs": [
        {
          "output_type": "stream",
          "name": "stdout",
          "text": [
            "h\n",
            "e\n",
            "l\n",
            "l\n",
            "o\n"
          ]
        }
      ]
    },
    {
      "cell_type": "code",
      "source": [
        "for i in range(0,10,2):\n",
        "  i+=1\n",
        "  print(i)"
      ],
      "metadata": {
        "colab": {
          "base_uri": "https://localhost:8080/"
        },
        "id": "kwCE-e6u5pXA",
        "outputId": "89940cf7-a9e4-4079-89d9-55417debb889"
      },
      "execution_count": 3,
      "outputs": [
        {
          "output_type": "stream",
          "name": "stdout",
          "text": [
            "1\n",
            "3\n",
            "5\n",
            "7\n",
            "9\n"
          ]
        }
      ]
    },
    {
      "cell_type": "code",
      "source": [
        "a=input('')\n",
        "a=int(a)\n",
        "for i in range(1,10):\n",
        "  print(a*i)\n",
        "\n"
      ],
      "metadata": {
        "colab": {
          "base_uri": "https://localhost:8080/"
        },
        "id": "whjmY2GS8GgX",
        "outputId": "beaed1b3-aa9a-47ee-998a-f720ef7ee3d8"
      },
      "execution_count": 6,
      "outputs": [
        {
          "output_type": "stream",
          "name": "stdout",
          "text": [
            "17\n",
            "17\n",
            "34\n",
            "51\n",
            "68\n",
            "85\n",
            "102\n",
            "119\n",
            "136\n",
            "153\n"
          ]
        }
      ]
    },
    {
      "cell_type": "code",
      "source": [
        "for i in range(5,1,-1):\n",
        "  print(i)"
      ],
      "metadata": {
        "colab": {
          "base_uri": "https://localhost:8080/"
        },
        "id": "UYcdJ8fG9cAj",
        "outputId": "0a2fbfc5-da57-46af-c6ec-d235f32bab2a"
      },
      "execution_count": 7,
      "outputs": [
        {
          "output_type": "stream",
          "name": "stdout",
          "text": [
            "5\n",
            "4\n",
            "3\n",
            "2\n"
          ]
        }
      ]
    },
    {
      "cell_type": "code",
      "source": [
        "a=input('')\n",
        "a=int(a)\n",
        "for i in range(a,35):\n",
        "  print(i)\n",
        "\n",
        "\n",
        "\n"
      ],
      "metadata": {
        "colab": {
          "base_uri": "https://localhost:8080/"
        },
        "id": "ju9H6WoPBcjA",
        "outputId": "1f1584db-5cbe-418a-ff78-ad4f16da93a4"
      },
      "execution_count": 13,
      "outputs": [
        {
          "output_type": "stream",
          "name": "stdout",
          "text": [
            "1\n",
            "1\n",
            "2\n",
            "3\n",
            "4\n",
            "5\n",
            "6\n",
            "7\n",
            "8\n",
            "9\n",
            "10\n",
            "11\n",
            "12\n",
            "13\n",
            "14\n",
            "15\n",
            "16\n",
            "17\n",
            "18\n",
            "19\n",
            "20\n",
            "21\n",
            "22\n",
            "23\n",
            "24\n",
            "25\n",
            "26\n",
            "27\n",
            "28\n",
            "29\n",
            "30\n",
            "31\n",
            "32\n",
            "33\n",
            "34\n"
          ]
        }
      ]
    },
    {
      "cell_type": "code",
      "source": [
        "for i in range(0,10):\n",
        "  if i==5:\n",
        "     print(\"i is 5\")\n",
        "     break\n",
        "  print(i)\n",
        "\n"
      ],
      "metadata": {
        "colab": {
          "base_uri": "https://localhost:8080/"
        },
        "id": "WEeJli2ZD3JS",
        "outputId": "026e77e5-2184-4e41-aee6-d456b28c3aee"
      },
      "execution_count": 15,
      "outputs": [
        {
          "output_type": "stream",
          "name": "stdout",
          "text": [
            "0\n",
            "1\n",
            "2\n",
            "3\n",
            "4\n",
            "i is 5\n"
          ]
        }
      ]
    },
    {
      "cell_type": "code",
      "source": [
        "for i in range(10):\n",
        "  if i==6:\n",
        "    print('i is 6')\n",
        "    continue\n",
        "  print(i)"
      ],
      "metadata": {
        "colab": {
          "base_uri": "https://localhost:8080/"
        },
        "id": "xRtU4gOAFQ4D",
        "outputId": "2f4b4d28-6558-4fe0-e962-338ab6447b55"
      },
      "execution_count": 20,
      "outputs": [
        {
          "output_type": "stream",
          "name": "stdout",
          "text": [
            "0\n",
            "1\n",
            "2\n",
            "3\n",
            "4\n",
            "5\n",
            "i is 6\n",
            "7\n",
            "8\n",
            "9\n"
          ]
        }
      ]
    },
    {
      "cell_type": "code",
      "source": [
        "a=input('')\n",
        "a=int(a)\n",
        "for i in range(a):\n",
        "  c=a%10\n",
        "  rev+=str(c)\n",
        "  a=int(a/10)\n",
        "  if a==0:\n",
        "    break\n",
        "print(rev)"
      ],
      "metadata": {
        "colab": {
          "base_uri": "https://localhost:8080/",
          "height": 262
        },
        "id": "IpQNXBYzH1_H",
        "outputId": "7888c237-cc27-4d28-8901-cdbed1680d34"
      },
      "execution_count": 21,
      "outputs": [
        {
          "name": "stdout",
          "output_type": "stream",
          "text": [
            "345\n"
          ]
        },
        {
          "output_type": "error",
          "ename": "NameError",
          "evalue": "name 'rev' is not defined",
          "traceback": [
            "\u001b[0;31m---------------------------------------------------------------------------\u001b[0m",
            "\u001b[0;31mNameError\u001b[0m                                 Traceback (most recent call last)",
            "\u001b[0;32m<ipython-input-21-1263c07886c3>\u001b[0m in \u001b[0;36m<cell line: 3>\u001b[0;34m()\u001b[0m\n\u001b[1;32m      3\u001b[0m \u001b[0;32mfor\u001b[0m \u001b[0mi\u001b[0m \u001b[0;32min\u001b[0m \u001b[0mrange\u001b[0m\u001b[0;34m(\u001b[0m\u001b[0ma\u001b[0m\u001b[0;34m)\u001b[0m\u001b[0;34m:\u001b[0m\u001b[0;34m\u001b[0m\u001b[0;34m\u001b[0m\u001b[0m\n\u001b[1;32m      4\u001b[0m   \u001b[0mc\u001b[0m\u001b[0;34m=\u001b[0m\u001b[0ma\u001b[0m\u001b[0;34m%\u001b[0m\u001b[0;36m10\u001b[0m\u001b[0;34m\u001b[0m\u001b[0;34m\u001b[0m\u001b[0m\n\u001b[0;32m----> 5\u001b[0;31m   \u001b[0mrev\u001b[0m\u001b[0;34m+=\u001b[0m\u001b[0mstr\u001b[0m\u001b[0;34m(\u001b[0m\u001b[0mc\u001b[0m\u001b[0;34m)\u001b[0m\u001b[0;34m\u001b[0m\u001b[0;34m\u001b[0m\u001b[0m\n\u001b[0m\u001b[1;32m      6\u001b[0m   \u001b[0ma\u001b[0m\u001b[0;34m=\u001b[0m\u001b[0mint\u001b[0m\u001b[0;34m(\u001b[0m\u001b[0ma\u001b[0m\u001b[0;34m/\u001b[0m\u001b[0;36m10\u001b[0m\u001b[0;34m)\u001b[0m\u001b[0;34m\u001b[0m\u001b[0;34m\u001b[0m\u001b[0m\n\u001b[1;32m      7\u001b[0m   \u001b[0;32mif\u001b[0m \u001b[0ma\u001b[0m\u001b[0;34m==\u001b[0m\u001b[0;36m0\u001b[0m\u001b[0;34m:\u001b[0m\u001b[0;34m\u001b[0m\u001b[0;34m\u001b[0m\u001b[0m\n",
            "\u001b[0;31mNameError\u001b[0m: name 'rev' is not defined"
          ]
        }
      ]
    }
  ]
}